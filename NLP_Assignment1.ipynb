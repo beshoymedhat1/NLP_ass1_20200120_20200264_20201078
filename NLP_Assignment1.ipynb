{
  "nbformat": 4,
  "nbformat_minor": 0,
  "metadata": {
    "colab": {
      "provenance": []
    },
    "kernelspec": {
      "name": "python3",
      "display_name": "Python 3"
    },
    "language_info": {
      "name": "python"
    }
  },
  "cells": [
    {
      "cell_type": "markdown",
      "source": [
        "## Importing Libraries"
      ],
      "metadata": {
        "id": "r8ybLPqkZ2z7"
      }
    },
    {
      "cell_type": "code",
      "source": [
        "!pip install inscriptis"
      ],
      "metadata": {
        "colab": {
          "base_uri": "https://localhost:8080/"
        },
        "id": "m2UhoFV6rB7_",
        "outputId": "04d1172f-4e07-4b47-e929-f0480697e436"
      },
      "execution_count": null,
      "outputs": [
        {
          "output_type": "stream",
          "name": "stdout",
          "text": [
            "Collecting inscriptis\n",
            "  Downloading inscriptis-2.5.0-py3-none-any.whl (45 kB)\n",
            "\u001b[2K     \u001b[90m━━━━━━━━━━━━━━━━━━━━━━━━━━━━━━━━━━━━━━━━\u001b[0m \u001b[32m45.4/45.4 kB\u001b[0m \u001b[31m738.9 kB/s\u001b[0m eta \u001b[36m0:00:00\u001b[0m\n",
            "\u001b[?25hRequirement already satisfied: lxml>=4.9.3 in /usr/local/lib/python3.10/dist-packages (from inscriptis) (4.9.4)\n",
            "Requirement already satisfied: requests>=2.31.0 in /usr/local/lib/python3.10/dist-packages (from inscriptis) (2.31.0)\n",
            "Requirement already satisfied: charset-normalizer<4,>=2 in /usr/local/lib/python3.10/dist-packages (from requests>=2.31.0->inscriptis) (3.3.2)\n",
            "Requirement already satisfied: idna<4,>=2.5 in /usr/local/lib/python3.10/dist-packages (from requests>=2.31.0->inscriptis) (3.6)\n",
            "Requirement already satisfied: urllib3<3,>=1.21.1 in /usr/local/lib/python3.10/dist-packages (from requests>=2.31.0->inscriptis) (2.0.7)\n",
            "Requirement already satisfied: certifi>=2017.4.17 in /usr/local/lib/python3.10/dist-packages (from requests>=2.31.0->inscriptis) (2024.2.2)\n",
            "Installing collected packages: inscriptis\n",
            "Successfully installed inscriptis-2.5.0\n"
          ]
        }
      ]
    },
    {
      "cell_type": "code",
      "source": [
        "import numpy as np\n",
        "import nltk\n",
        "from nltk.stem import PorterStemmer\n",
        "from nltk.stem.wordnet import WordNetLemmatizer\n",
        "import requests\n",
        "from bs4 import BeautifulSoup\n",
        "from inscriptis import get_text\n",
        "import numpy as np\n",
        "# import urllib.request"
      ],
      "metadata": {
        "id": "rl3bU4wdr4JK"
      },
      "execution_count": null,
      "outputs": []
    },
    {
      "cell_type": "markdown",
      "source": [
        "## Get the HTML from URL then get text from HTML"
      ],
      "metadata": {
        "id": "n_8u3kUGaACQ"
      }
    },
    {
      "cell_type": "code",
      "execution_count": null,
      "metadata": {
        "id": "8hptGJWZjZEz"
      },
      "outputs": [],
      "source": [
        "# Replace with the desired URL\n",
        "url = \"https://www.muchfriends.com/stranger-text-chat/\"\n",
        "\n",
        "# Fetch the HTML content\n",
        "response = requests.get(url)\n",
        "\n",
        "# Check for successful response\n",
        "if response.status_code == 200:\n",
        "  html = response.text\n",
        "  # text=urllib.request.urlopen(url).read()\n",
        "\n",
        "text = get_text(html)\n"
      ]
    },
    {
      "cell_type": "code",
      "source": [
        "html"
      ],
      "metadata": {
        "colab": {
          "base_uri": "https://localhost:8080/",
          "height": 123
        },
        "id": "Hh3gct9flGAk",
        "outputId": "21faea3b-081b-43e4-e50f-f8d9c0c62eee"
      },
      "execution_count": null,
      "outputs": [
        {
          "output_type": "execute_result",
          "data": {
            "text/plain": [
              "'<!DOCTYPE html>\\n<html class=\"no-js\">\\n    <head>\\n        <meta charset=\"utf-8\">\\n        <meta http-equiv=\"X-UA-Compatible\" content=\"IE=edge\">\\n        <title>Stranger Text Chat - Much Friends</title>\\n        <meta name=\"description\" content=\"Online stranger text chat rooms for free without registration, talk to new friends from all the world and sharing your interests with them.\">\\n        <meta name=\"viewport\" content=\"width=device-width, initial-scale=1\">\\n        <!-- Fonts -->\\n\\t\\t<meta property=\"og:locale\" content=\"en_US\"/>\\n\\t\\t<meta property=\"og:type\" content=\"website\"/>\\n\\t\\t<meta property=\"og:title\" content=\"Stranger Text Chat - Much Friends\"/>\\n\\t\\t<meta property=\"og:description\" content=\"Online stranger text chat rooms for free without registration, talk to new friends from all the world and sharing your interests with them.\"/>\\n\\t\\t<meta property=\"og:url\" content=\"https://www.muchfriends.com/stranger-text-chat/\"/>\\n\\t\\t<meta property=\"og:site_name\" content=\"MUCHFRIENDS\"/>\\n\\t\\t<meta property=\"og:image\" content=\"https://www.muchfriends.com/stranger-text-chat/stranger-text-chat.png\"/>\\n\\t\\t<meta name=\"twitter:card\" content=\"summary_large_image\"/>\\n\\t\\t<meta name=\"twitter:description\" content=\"Online stranger text chat rooms for free without registration, talk to new friends from all the world and sharing your interests with them.\"/>\\n\\t\\t<meta name=\"twitter:title\" content=\"Stranger Text Chat - Much Friends\"/>\\n\\t\\t<meta name=\"twitter:image\" content=\"https://www.muchfriends.com/stranger-text-chat/stranger-text-chat.png\"/>\\n\\t\\t<link rel=\"shortcut icon\" href=\"../favicon.ico\">\\n\\t\\t<link rel=\"icon\" type=\"image/png\" href=\"../favicon.png\">\\n        <!-- CSS -->\\n\\n        <link rel=\"stylesheet\" href=\"../css/bootstrap.min.css\">\\n        <link rel=\"stylesheet\" href=\"../css/font-awesome.min.css\">\\n        <link rel=\"stylesheet\" href=\"../css/main.css\">\\n        <link rel=\"stylesheet\" href=\"../css/animate.css\">\\n        <link rel=\"stylesheet\" href=\"../css/responsive.css\">\\n        <link rel=\"stylesheet\" type=\"text/css\" href=\"https://cdn.jsdelivr.net/npm/cookieconsent@3/build/cookieconsent.min.css\" />\\n\\n        <!-- Js -->\\n        <script src=\"../js/vendor/modernizr-2.6.2.min.js\"></script>\\n        <script src=\"//ajax.googleapis.com/ajax/libs/jquery/1.10.2/jquery.min.js\"></script>\\n        <script>window.jQuery || document.write(\\'<script src=\"../js/vendor/jquery-1.10.2.min.js\"><\\\\/script>\\')</script>\\n        <script src=\"../js/bootstrap.min.js\"></script>\\n        <script src=\"../js/plugins.js\"></script>\\n        <script src=\"../js/main.js\"></script>\\n        <script src=\"../js/wow.min.js\"></script>\\n        <script>\\n         new WOW(\\n            ).init();\\n        </script>\\n        </script>\\n        <!-- Global site tag (gtag.js) - Google Analytics -->\\n\\t\\t<script async src=\"https://www.googletagmanager.com/gtag/js?id=UA-43254294-1\"></script>\\n\\t\\t<script>\\n\\t\\t  window.dataLayer = window.dataLayer || [];\\n\\t\\t  function gtag(){dataLayer.push(arguments);}\\n\\t\\t  gtag(\\'js\\', new Date());\\n\\n\\t\\t  gtag(\\'config\\', \\'UA-43254294-1\\');\\n\\t\\t</script>\\n    </head>\\n    <body>\\n\\n\\n    <header>\\n        <div class=\"container\">\\n            <div class=\"row\">\\n                <div class=\"col-md-3 col-xs-6 col-sm-3\">\\n                    <a href=\"../\" class=\"logo\">\\n                        <img src=\"../images/logo.png\" alt=\"Much Friends - To Make New Friends\">\\n                    </a>\\n                </div>\\n                <div class=\"col-md-6 col-xs-6 col-sm-6\">\\n                    <div class=\"menu\">\\n                        <nav class=\"navbar navbar-default\" role=\"navigation\">\\n                            <div class=\"container-fluid\">\\n                                <!-- Brand and toggle get grouped for better mobile display -->\\n                                <div class=\"navbar-header\">\\n                                    <button type=\"button\" class=\"navbar-toggle collapsed\" data-toggle=\"collapse\" data-target=\"#bs-example-navbar-collapse-1\">\\n                                    <span class=\"sr-only\">Toggle navigation</span>\\n                                    <span class=\"icon-bar\"></span>\\n                                    <span class=\"icon-bar\"></span>\\n                                    <span class=\"icon-bar\"></span>\\n                                    </button>\\n                                </div>\\n\\n                                <!-- Collect the nav links, forms, and other content for toggling -->\\n                                <div class=\"collapse navbar-collapse\" id=\"bs-example-navbar-collapse-1\">\\n                                    <ul class=\"nav navbar-nav\">\\n                                        <li><a href=\"../\">Home</a></li>\\n                                        <li><a href=\"../games/\">Games</a></li>\\n                                        <li><a href=\"#feature\">Rules</a></li>\\n\\t\\t\\t\\t\\t\\t\\t\\t\\t\\t<li><a href=\"../blog/\">Blog</a></li>\\n                                        <li><a href=\"#\">F.A.Q</a></li>\\n                                    </ul>\\n                                  \\n                                </div><!-- /.navbar-collapse -->\\n                            </div><!-- /.container-fluid -->\\n                        </nav>\\n                    </div>\\n                </div>\\n                <div class=\"col-md-3 col-xs-12 col-sm-3\">\\n                    <ul class=\"social-info\">\\n                        <li><a href=\"https://www.facebook.com/dialog/share?app_id=2643258069285401&display=popup&href=https%3A%2F%2Fwww.muchfriends.com%2Fstranger-text-chat%2F&redirect_uri=http%3A%2F%2Fs7.muchfriends.com%2Fstranger-text-chat%2F\" target=\"_blank\"><i class=\"fa fa-facebook\"></i></a></li>\\n                        <li><a href=\"https://twitter.com/intent/tweet?text=Stranger Text Chat - Much Friends&url=https%3A%2F%2Fwww.muchfriends.com%2Fstranger-text-chat%2F&related=\" target=\"_blank\"><i class=\"fa fa-twitter\"></i></a></li>\\n                        <li><a href=\"https://www.reddit.com/submit?url=https%3A%2F%2Fwww.muchfriends.com%2Fstranger-text-chat%2F&title=Stranger%20Text%20Chat%20-%20Much%20Friends\" target=\"_blank\"><i class=\"fa fa-reddit-alien\"></i></a></li>\\n                        <li><a href=\"https://api.whatsapp.com/send?text=Stranger%20Text%20Chat%20-%20Much%20Friends%20https%3A%2F%2Fwww.muchfriends.com%2Fstranger-text-chat%2F\" target=\"_blank\"><i class=\"fa fa-whatsapp\"></i></a></li>\\n                    </ul>\\n                </div>\\n            </div>\\n        </div>\\n    </header>\\n    <div class=\"textchat-content\">\\n        </div>\\n    <div class=\"hide-content\">\\n    <section id=\"banner\" class=\"wow fadeInUp\" style=\"padding: 70px 0 20px 0;\">\\n        <div class=\"container\">\\n            <div class=\"row\">\\n\\n                <div class=\"col-md-4 col-sm-6\" style=\"padding-right:0px;padding-left:0px;\">\\n                    <div class=\"block\">\\n\\t\\t\\t\\t\\t<center>\\n                    <div style=\"margin-bottom:5px;margin-top:5px;\" align=\"center\">\\n                    <script async src=\"https://pagead2.googlesyndication.com/pagead/js/adsbygoogle.js\"></script>\\n\\t\\t\\t\\t\\t<!-- 15x468sikochat.com-respon -->\\n\\t\\t\\t\\t\\t<ins class=\"adsbygoogle\"\\n\\t\\t\\t\\t\\t\\t style=\"display:block\"\\n\\t\\t\\t\\t\\t\\t data-ad-client=\"ca-pub-1223430349935058\"\\n\\t\\t\\t\\t\\t\\t data-ad-slot=\"5903654036\"\\n\\t\\t\\t\\t\\t\\t data-ad-format=\"link\"\\n\\t\\t\\t\\t\\t\\t data-full-width-responsive=\"true\"></ins>\\n\\t\\t\\t\\t\\t<script>\\n\\t\\t\\t\\t\\t\\t (adsbygoogle = window.adsbygoogle || []).push({});\\n\\t\\t\\t\\t\\t</script>\\n\\t\\t\\t\\t\\t</div>\\t\\t\\t\\t\\t\\t</center>\\n                    </div>\\n                    \\n                </div>\\n                <div class=\"col-md-6 col-md-offset-1 col-sm-6\">\\n                    <div class=\"block\">\\n                        <h1>\\n                            Stranger Text Chat\\n                        </h1>\\n                        <p style=\"margin-bottom: 25px;\">\\n                            Join our online stranger text chat rooms for free without registration, talk to new friends from all the world and sharing your interests with them.\\n                        </p>\\n\\n                        <ul class=\"download-btn\">\\n                            <li>\\n\\t\\t\\t\\t\\t\\t\\t<form action=\"\" method=\"post\">\\n                                <button class=\"btn btn-default btn-windows\" name=\"textchat\" type=\"submit\"><i class=\"fa fa-smile-o\"></i><strong style=\"font-size:24px;\">Start Chat Now</strong></button>\\n\\t\\t\\t\\t\\t\\t\\t</form>\\n                            </li>\\n                        </ul>\\n\\n                    </div>\\n                </div>\\n            </div>\\n        </div>\\n    </section>\\n\\n\\n    <section id=\"service\">\\n        <div class=\"container\">\\n            <div class=\"service-wrapper\" style=\"padding:15px 0\">\\n                <div class=\"row\">\\n               <p style=\"font-size:18px;text-align:justify; line-height:1.7;padding:0 8px 0px 8px;\">     \\nOne of the best free chat rooms for chatting in our site is the chat with stranger which is free and safe online.<br>\\nThe online stranger chat room in muchfriends.com gives you the chance to text strangers and make new friends in free online random chat with strangers.<br>\\nWe offer you the possibility of text chat with strangers from anywhere from all over the world using our free international chatroom.<br>\\nLearn how to use it and meet friends online anytime you want in our free text chat, it’s so simple and easy to talk to strangers in a safe place where you can chatting with strangers anonymously  without registration.<br>\\nWhen you have a chat with strangers, this may help you to overcome your loneliness and stress. But you should be aware about the way of how to protect yourself from online scams.<br>\\nOur random chat offers you a great opportunity to get more friends online,know cool strangers and have interesting conversations. So, have fun and meet new friends from all countries (USA, Canada, United Kingdom, Australia...etc), you can also share anything you want with them.<br>\\nmuchfriends.com introduces the best stranger chat for free, you will be sure of that after trying our platform for many reasons :<br>\\n<strong>First</strong>, you can chat with strangers about any topic you like for free and without any restriction.<br>\\n<strong>Second</strong>,our chat with random strangers is just by using a nickname, you don\\'t need to register.<br>\\n<strong>Third</strong>, our site is a global, you can connect with many people in other countries men and women.<br>\\n<strong>After that</strong>, we optimized the chat page to be compatible with any type of device you use.<br>\\n<strong>Finally</strong>, you can freely share photos and videos. It will be no doubt an interesting experience when you share online with others some of your good moments.<br>\\nSo, hurried to use our text chat stranger, it is totally free on mobiles or desktops.\\n                 </p>\\n                </div>\\n            </div>\\n        </div>\\n    </section>\\n\\n\\n    <section id=\"feature\" style=\"padding: 0px 0 20px 0;\">\\n        <div class=\"container\">\\n            <div class=\"row\">\\n                <div class=\"col-md-8 col-sm-8 wow fadeInRight\" data-wow-delay=\".2s\">\\n                    <span class=\"title rules\">Please read the Rules below before joining to avoid getting banned:</span>\\n\\n                    <div class=\"feature-item\">\\n\\n<ul class=\"fa-ul\" style=\"font-size:18px;line-height:1.5;\">\\n<li><i class=\"fa-li fa fa-circle\"></i>Do not breaking the rules if you don\\'t like to get banned from the stranger chat room, (No warning is required).</li>\\n<li><i class=\"fa-li fa fa-circle\"></i>To talk with strangers, you agree to be at least 18 years old.</li>\\n<li><i class=\"fa-li fa fa-circle\"></i>No nudity pictures allowed. You will be banned if you did.</li>\\n<li><i class=\"fa-li fa fa-circle\"></i>Don\\'t share your phone numbers, e-mail address, social media ID, websites links or cam requests may get you muted or banned.</li>\\n<li><i class=\"fa-li fa fa-circle\"></i>Don\\'t share your personal information or anyone else\\'s.</li>\\n<li><i class=\"fa-li fa fa-circle\"></i>Do not spamming or flooding the chatroom or disrupting other users in any way. You will be banned if you do.</li>\\n<li><i class=\"fa-li fa fa-circle\"></i>We don\\'t allow the VPN or Proxy connections.</li>\\n</ul>\\n                    </div>\\n                </div>\\n                <div class=\"col-md-4 col-sm-4 wow fadeInLeft\" data-wow-delay=\".2s\">\\n                    <div class=\"block\">\\n                        <img class=\"img-responsive\" src=\"../images/chat-rules.svg\" alt=\"Stranger Text Chat Rules\">\\n                    </div>\\n                </div>\\n            </div>\\n        </div>\\n    </section>\\n</div>\\n    <footer class=\"wow fadeInUp\" data-wow-delay=\".2s\" style=\"padding: 20px 0 10px;\">\\n        <div class=\"container text-center\">\\n            <div class=\"row\">\\n                <div class=\"col-md-12\">\\n                        <a href=\"../chat/\" class=\"next-previous\">&laquo; Group Chat</a>\\n                        <a href=\"../video-chat/\" class=\"next-previous\">Video Chat &raquo;</a>\\n                </div>\\n\\t\\t\\t\\t\\t<div class=\"col-md-6\" style=\"text-align:left;padding-top:10px;\">\\n\\t\\t\\t\\t\\t<a href=\"../privacy-policy.html\">Privacy Policy</a>\\n\\t\\t\\t\\t\\t|\\n                   <a href=\"../contact.html\">Contact Us</a>\\n\\t\\t\\t\\t\\t</div>\\n\\t\\t\\t\\t\\t<div class=\"col-md-6\" style=\"text-align:right;\">\\t\\n                    <p>Copyright © 2020 muchfriends.com. All rights reserved.</p>\\n\\t\\t\\t\\t\\t</div>\\n            </div>\\n        </div>\\n    </footer>\\n<script>\\n\\n    if ( window.history.replaceState ) {\\n\\n        window.history.replaceState( null, null, window.location.href );\\n\\n    }\\n\\n</script>\\n<script src=\"https://cdn.jsdelivr.net/npm/cookieconsent@3/build/cookieconsent.min.js\" data-cfasync=\"false\"></script>\\n<script>\\nwindow.cookieconsent.initialise({\\n  \"palette\": {\\n    \"popup\": {\\n      \"background\": \"#2c2a40\"\\n    },\\n    \"button\": {\\n      \"background\": \"#f1c40f\",\\n      \"text\": \"#000000\"\\n    }\\n  },\\n  \"theme\": \"edgeless\",\\n  \"content\": {\\n    \"href\": \"https://www.muchfriends.com/privacy-policy.html\"\\n  }\\n});\\n</script>\\n</body>\\n</html>\\n'"
            ],
            "application/vnd.google.colaboratory.intrinsic+json": {
              "type": "string"
            }
          },
          "metadata": {},
          "execution_count": 4
        }
      ]
    },
    {
      "cell_type": "code",
      "source": [
        "text"
      ],
      "metadata": {
        "colab": {
          "base_uri": "https://localhost:8080/",
          "height": 123
        },
        "id": "v3co03p8rNZp",
        "outputId": "463e1586-e535-4125-94d1-f33daace4398"
      },
      "execution_count": null,
      "outputs": [
        {
          "output_type": "execute_result",
          "data": {
            "text/plain": [
              "\"            Toggle navigation\\n              * Home\\n              * Games\\n              * Rules\\n              * Blog\\n              * F.A.Q\\n        * \\n        * \\n        * \\n        * \\n\\n          Stranger Text Chat\\n\\n          Join our online stranger text chat rooms for free without registration, talk to new friends from all the world and sharing your interests with them.\\n\\n\\n\\n            * Start Chat Now\\n\\n        One of the best free chat rooms for chatting in our site is the chat with stranger which is free and safe online.\\n        The online stranger chat room in muchfriends.com gives you the chance to text strangers and make new friends in free online random chat with strangers.\\n        We offer you the possibility of text chat with strangers from anywhere from all over the world using our free international chatroom.\\n        Learn how to use it and meet friends online anytime you want in our free text chat, it’s so simple and easy to talk to strangers in a safe place where you can chatting with strangers anonymously without registration.\\n        When you have a chat with strangers, this may help you to overcome your loneliness and stress. But you should be aware about the way of how to protect yourself from online scams.\\n        Our random chat offers you a great opportunity to get more friends online,know cool strangers and have interesting conversations. So, have fun and meet new friends from all countries (USA, Canada, United Kingdom, Australia...etc), you can also share anything you want with them.\\n        muchfriends.com introduces the best stranger chat for free, you will be sure of that after trying our platform for many reasons :\\n        First, you can chat with strangers about any topic you like for free and without any restriction.\\n        Second,our chat with random strangers is just by using a nickname, you don't need to register.\\n        Third, our site is a global, you can connect with many people in other countries men and women.\\n        After that, we optimized the chat page to be compatible with any type of device you use.\\n        Finally, you can freely share photos and videos. It will be no doubt an interesting experience when you share online with others some of your good moments.\\n        So, hurried to use our text chat stranger, it is totally free on mobiles or desktops.\\n\\n        Please read the Rules below before joining to avoid getting banned:\\n            * Do not breaking the rules if you don't like to get banned from the stranger chat room, (No warning is required).\\n            * To talk with strangers, you agree to be at least 18 years old.\\n            * No nudity pictures allowed. You will be banned if you did.\\n            * Don't share your phone numbers, e-mail address, social media ID, websites links or cam requests may get you muted or banned.\\n            * Don't share your personal information or anyone else's.\\n            * Do not spamming or flooding the chatroom or disrupting other users in any way. You will be banned if you do.\\n            * We don't allow the VPN or Proxy connections.\\n      « Group Chat Video Chat »\\n      Privacy Policy | Contact Us\\n\\n      Copyright © 2020 muchfriends.com. All rights reserved.\\n\""
            ],
            "application/vnd.google.colaboratory.intrinsic+json": {
              "type": "string"
            }
          },
          "metadata": {},
          "execution_count": 5
        }
      ]
    },
    {
      "cell_type": "code",
      "source": [
        "type(html)"
      ],
      "metadata": {
        "colab": {
          "base_uri": "https://localhost:8080/"
        },
        "id": "6qf2o6HnpkB0",
        "outputId": "6aec82c1-cae0-4b8f-9fd5-9f3c079fd06b"
      },
      "execution_count": null,
      "outputs": [
        {
          "output_type": "execute_result",
          "data": {
            "text/plain": [
              "str"
            ]
          },
          "metadata": {},
          "execution_count": 6
        }
      ]
    },
    {
      "cell_type": "code",
      "source": [
        "type(text)"
      ],
      "metadata": {
        "colab": {
          "base_uri": "https://localhost:8080/"
        },
        "id": "h0e2JKp6xPWm",
        "outputId": "d8240994-13e5-46cf-b327-a4983f575154"
      },
      "execution_count": null,
      "outputs": [
        {
          "output_type": "execute_result",
          "data": {
            "text/plain": [
              "str"
            ]
          },
          "metadata": {},
          "execution_count": 7
        }
      ]
    },
    {
      "cell_type": "markdown",
      "source": [
        "## Normalization"
      ],
      "metadata": {
        "id": "pcNL0Jj2adDb"
      }
    },
    {
      "cell_type": "code",
      "source": [
        "text = text.lower()"
      ],
      "metadata": {
        "id": "IdmLflLWtZP7"
      },
      "execution_count": null,
      "outputs": []
    },
    {
      "cell_type": "code",
      "source": [
        "import re\n",
        "# Remove new lines (\\n)\n",
        "text = re.sub(r'\\n', '', text)\n",
        "text"
      ],
      "metadata": {
        "colab": {
          "base_uri": "https://localhost:8080/",
          "height": 123
        },
        "id": "6wlnGvcDti9l",
        "outputId": "f29b9169-2e99-4b5d-d154-e52b2f58cc95"
      },
      "execution_count": null,
      "outputs": [
        {
          "output_type": "execute_result",
          "data": {
            "text/plain": [
              "\"            toggle navigation              * home              * games              * rules              * blog              * f.a.q        *         *         *         *           stranger text chat          join our online stranger text chat rooms for free without registration, talk to new friends from all the world and sharing your interests with them.            * start chat now        one of the best free chat rooms for chatting in our site is the chat with stranger which is free and safe online.        the online stranger chat room in muchfriends.com gives you the chance to text strangers and make new friends in free online random chat with strangers.        we offer you the possibility of text chat with strangers from anywhere from all over the world using our free international chatroom.        learn how to use it and meet friends online anytime you want in our free text chat, it’s so simple and easy to talk to strangers in a safe place where you can chatting with strangers anonymously without registration.        when you have a chat with strangers, this may help you to overcome your loneliness and stress. but you should be aware about the way of how to protect yourself from online scams.        our random chat offers you a great opportunity to get more friends online,know cool strangers and have interesting conversations. so, have fun and meet new friends from all countries (usa, canada, united kingdom, australia...etc), you can also share anything you want with them.        muchfriends.com introduces the best stranger chat for free, you will be sure of that after trying our platform for many reasons :        first, you can chat with strangers about any topic you like for free and without any restriction.        second,our chat with random strangers is just by using a nickname, you don't need to register.        third, our site is a global, you can connect with many people in other countries men and women.        after that, we optimized the chat page to be compatible with any type of device you use.        finally, you can freely share photos and videos. it will be no doubt an interesting experience when you share online with others some of your good moments.        so, hurried to use our text chat stranger, it is totally free on mobiles or desktops.        please read the rules below before joining to avoid getting banned:            * do not breaking the rules if you don't like to get banned from the stranger chat room, (no warning is required).            * to talk with strangers, you agree to be at least 18 years old.            * no nudity pictures allowed. you will be banned if you did.            * don't share your phone numbers, e-mail address, social media id, websites links or cam requests may get you muted or banned.            * don't share your personal information or anyone else's.            * do not spamming or flooding the chatroom or disrupting other users in any way. you will be banned if you do.            * we don't allow the vpn or proxy connections.      « group chat video chat »      privacy policy | contact us      copyright © 2020 muchfriends.com. all rights reserved.\""
            ],
            "application/vnd.google.colaboratory.intrinsic+json": {
              "type": "string"
            }
          },
          "metadata": {},
          "execution_count": 27
        }
      ]
    },
    {
      "cell_type": "code",
      "source": [
        "type(text)"
      ],
      "metadata": {
        "colab": {
          "base_uri": "https://localhost:8080/"
        },
        "id": "_J4ZlJCfxVqk",
        "outputId": "74b98170-73ea-447d-8140-c78b30a59d94"
      },
      "execution_count": null,
      "outputs": [
        {
          "output_type": "execute_result",
          "data": {
            "text/plain": [
              "str"
            ]
          },
          "metadata": {},
          "execution_count": 28
        }
      ]
    },
    {
      "cell_type": "code",
      "source": [
        "# Remove Punctuation\n",
        "import string\n",
        "\n",
        "translator = str.maketrans('', '', string.punctuation)\n",
        "text = text.translate(translator)\n",
        "text"
      ],
      "metadata": {
        "colab": {
          "base_uri": "https://localhost:8080/",
          "height": 123
        },
        "id": "9Ckkr-cfusmH",
        "outputId": "2f3e719d-d555-4ee0-b10b-d4358c0ac438"
      },
      "execution_count": null,
      "outputs": [
        {
          "output_type": "execute_result",
          "data": {
            "text/plain": [
              "'            toggle navigation               home               games               rules               blog               faq                                              stranger text chat          join our online stranger text chat rooms for free without registration talk to new friends from all the world and sharing your interests with them             start chat now        one of the best free chat rooms for chatting in our site is the chat with stranger which is free and safe online        the online stranger chat room in muchfriendscom gives you the chance to text strangers and make new friends in free online random chat with strangers        we offer you the possibility of text chat with strangers from anywhere from all over the world using our free international chatroom        learn how to use it and meet friends online anytime you want in our free text chat it’s so simple and easy to talk to strangers in a safe place where you can chatting with strangers anonymously without registration        when you have a chat with strangers this may help you to overcome your loneliness and stress but you should be aware about the way of how to protect yourself from online scams        our random chat offers you a great opportunity to get more friends onlineknow cool strangers and have interesting conversations so have fun and meet new friends from all countries usa canada united kingdom australiaetc you can also share anything you want with them        muchfriendscom introduces the best stranger chat for free you will be sure of that after trying our platform for many reasons         first you can chat with strangers about any topic you like for free and without any restriction        secondour chat with random strangers is just by using a nickname you dont need to register        third our site is a global you can connect with many people in other countries men and women        after that we optimized the chat page to be compatible with any type of device you use        finally you can freely share photos and videos it will be no doubt an interesting experience when you share online with others some of your good moments        so hurried to use our text chat stranger it is totally free on mobiles or desktops        please read the rules below before joining to avoid getting banned             do not breaking the rules if you dont like to get banned from the stranger chat room no warning is required             to talk with strangers you agree to be at least 18 years old             no nudity pictures allowed you will be banned if you did             dont share your phone numbers email address social media id websites links or cam requests may get you muted or banned             dont share your personal information or anyone elses             do not spamming or flooding the chatroom or disrupting other users in any way you will be banned if you do             we dont allow the vpn or proxy connections      « group chat video chat »      privacy policy  contact us      copyright © 2020 muchfriendscom all rights reserved'"
            ],
            "application/vnd.google.colaboratory.intrinsic+json": {
              "type": "string"
            }
          },
          "metadata": {},
          "execution_count": 29
        }
      ]
    },
    {
      "cell_type": "code",
      "source": [
        "type(text)"
      ],
      "metadata": {
        "colab": {
          "base_uri": "https://localhost:8080/"
        },
        "id": "B9uPs3YnxW_k",
        "outputId": "815cfdd7-7d6e-4193-c014-61c346522103"
      },
      "execution_count": null,
      "outputs": [
        {
          "output_type": "execute_result",
          "data": {
            "text/plain": [
              "str"
            ]
          },
          "metadata": {},
          "execution_count": 12
        }
      ]
    },
    {
      "cell_type": "markdown",
      "source": [
        "## Tokenization"
      ],
      "metadata": {
        "id": "bUNmHe6Ya-ll"
      }
    },
    {
      "cell_type": "code",
      "source": [
        "text = text.split()"
      ],
      "metadata": {
        "id": "Z0m9Yz6ebmqG"
      },
      "execution_count": null,
      "outputs": []
    },
    {
      "cell_type": "markdown",
      "source": [
        "## Removing Stop Words"
      ],
      "metadata": {
        "id": "GlO0VSaebtuc"
      }
    },
    {
      "cell_type": "code",
      "source": [
        "nltk.download('stopwords')"
      ],
      "metadata": {
        "colab": {
          "base_uri": "https://localhost:8080/"
        },
        "id": "QLayCUYWwVfv",
        "outputId": "cd0fbaec-eed4-46fc-aabc-223caf39d262"
      },
      "execution_count": null,
      "outputs": [
        {
          "output_type": "stream",
          "name": "stderr",
          "text": [
            "[nltk_data] Downloading package stopwords to /root/nltk_data...\n",
            "[nltk_data]   Unzipping corpora/stopwords.zip.\n"
          ]
        },
        {
          "output_type": "execute_result",
          "data": {
            "text/plain": [
              "True"
            ]
          },
          "metadata": {},
          "execution_count": 31
        }
      ]
    },
    {
      "cell_type": "code",
      "source": [
        "useless_words = nltk.corpus.stopwords.words(\"english\")\n",
        "useless_words = useless_words + ['«', '»','©']"
      ],
      "metadata": {
        "id": "_JWB0bBgv9T_"
      },
      "execution_count": null,
      "outputs": []
    },
    {
      "cell_type": "code",
      "source": [
        "len(text)"
      ],
      "metadata": {
        "colab": {
          "base_uri": "https://localhost:8080/"
        },
        "id": "YZvob2kN6gU-",
        "outputId": "1e8fd746-9cd1-43bc-ceb7-7412ebc52000"
      },
      "execution_count": null,
      "outputs": [
        {
          "output_type": "execute_result",
          "data": {
            "text/plain": [
              "486"
            ]
          },
          "metadata": {},
          "execution_count": 33
        }
      ]
    },
    {
      "cell_type": "code",
      "source": [
        "text = [word for word in text if not word in useless_words]"
      ],
      "metadata": {
        "id": "GrJRVwhXzlC4"
      },
      "execution_count": null,
      "outputs": []
    },
    {
      "cell_type": "code",
      "source": [
        "text"
      ],
      "metadata": {
        "colab": {
          "base_uri": "https://localhost:8080/"
        },
        "id": "HiK3Q5cAxrBj",
        "outputId": "050e5c85-34ff-4dd4-e922-1877fd1d82a0"
      },
      "execution_count": null,
      "outputs": [
        {
          "output_type": "execute_result",
          "data": {
            "text/plain": [
              "['toggle',\n",
              " 'navigation',\n",
              " 'home',\n",
              " 'games',\n",
              " 'rules',\n",
              " 'blog',\n",
              " 'faq',\n",
              " 'stranger',\n",
              " 'text',\n",
              " 'chat',\n",
              " 'join',\n",
              " 'online',\n",
              " 'stranger',\n",
              " 'text',\n",
              " 'chat',\n",
              " 'rooms',\n",
              " 'free',\n",
              " 'without',\n",
              " 'registration',\n",
              " 'talk',\n",
              " 'new',\n",
              " 'friends',\n",
              " 'world',\n",
              " 'sharing',\n",
              " 'interests',\n",
              " 'start',\n",
              " 'chat',\n",
              " 'one',\n",
              " 'best',\n",
              " 'free',\n",
              " 'chat',\n",
              " 'rooms',\n",
              " 'chatting',\n",
              " 'site',\n",
              " 'chat',\n",
              " 'stranger',\n",
              " 'free',\n",
              " 'safe',\n",
              " 'online',\n",
              " 'online',\n",
              " 'stranger',\n",
              " 'chat',\n",
              " 'room',\n",
              " 'muchfriendscom',\n",
              " 'gives',\n",
              " 'chance',\n",
              " 'text',\n",
              " 'strangers',\n",
              " 'make',\n",
              " 'new',\n",
              " 'friends',\n",
              " 'free',\n",
              " 'online',\n",
              " 'random',\n",
              " 'chat',\n",
              " 'strangers',\n",
              " 'offer',\n",
              " 'possibility',\n",
              " 'text',\n",
              " 'chat',\n",
              " 'strangers',\n",
              " 'anywhere',\n",
              " 'world',\n",
              " 'using',\n",
              " 'free',\n",
              " 'international',\n",
              " 'chatroom',\n",
              " 'learn',\n",
              " 'use',\n",
              " 'meet',\n",
              " 'friends',\n",
              " 'online',\n",
              " 'anytime',\n",
              " 'want',\n",
              " 'free',\n",
              " 'text',\n",
              " 'chat',\n",
              " 'it’s',\n",
              " 'simple',\n",
              " 'easy',\n",
              " 'talk',\n",
              " 'strangers',\n",
              " 'safe',\n",
              " 'place',\n",
              " 'chatting',\n",
              " 'strangers',\n",
              " 'anonymously',\n",
              " 'without',\n",
              " 'registration',\n",
              " 'chat',\n",
              " 'strangers',\n",
              " 'may',\n",
              " 'help',\n",
              " 'overcome',\n",
              " 'loneliness',\n",
              " 'stress',\n",
              " 'aware',\n",
              " 'way',\n",
              " 'protect',\n",
              " 'online',\n",
              " 'scams',\n",
              " 'random',\n",
              " 'chat',\n",
              " 'offers',\n",
              " 'great',\n",
              " 'opportunity',\n",
              " 'get',\n",
              " 'friends',\n",
              " 'onlineknow',\n",
              " 'cool',\n",
              " 'strangers',\n",
              " 'interesting',\n",
              " 'conversations',\n",
              " 'fun',\n",
              " 'meet',\n",
              " 'new',\n",
              " 'friends',\n",
              " 'countries',\n",
              " 'usa',\n",
              " 'canada',\n",
              " 'united',\n",
              " 'kingdom',\n",
              " 'australiaetc',\n",
              " 'also',\n",
              " 'share',\n",
              " 'anything',\n",
              " 'want',\n",
              " 'muchfriendscom',\n",
              " 'introduces',\n",
              " 'best',\n",
              " 'stranger',\n",
              " 'chat',\n",
              " 'free',\n",
              " 'sure',\n",
              " 'trying',\n",
              " 'platform',\n",
              " 'many',\n",
              " 'reasons',\n",
              " 'first',\n",
              " 'chat',\n",
              " 'strangers',\n",
              " 'topic',\n",
              " 'like',\n",
              " 'free',\n",
              " 'without',\n",
              " 'restriction',\n",
              " 'secondour',\n",
              " 'chat',\n",
              " 'random',\n",
              " 'strangers',\n",
              " 'using',\n",
              " 'nickname',\n",
              " 'dont',\n",
              " 'need',\n",
              " 'register',\n",
              " 'third',\n",
              " 'site',\n",
              " 'global',\n",
              " 'connect',\n",
              " 'many',\n",
              " 'people',\n",
              " 'countries',\n",
              " 'men',\n",
              " 'women',\n",
              " 'optimized',\n",
              " 'chat',\n",
              " 'page',\n",
              " 'compatible',\n",
              " 'type',\n",
              " 'device',\n",
              " 'use',\n",
              " 'finally',\n",
              " 'freely',\n",
              " 'share',\n",
              " 'photos',\n",
              " 'videos',\n",
              " 'doubt',\n",
              " 'interesting',\n",
              " 'experience',\n",
              " 'share',\n",
              " 'online',\n",
              " 'others',\n",
              " 'good',\n",
              " 'moments',\n",
              " 'hurried',\n",
              " 'use',\n",
              " 'text',\n",
              " 'chat',\n",
              " 'stranger',\n",
              " 'totally',\n",
              " 'free',\n",
              " 'mobiles',\n",
              " 'desktops',\n",
              " 'please',\n",
              " 'read',\n",
              " 'rules',\n",
              " 'joining',\n",
              " 'avoid',\n",
              " 'getting',\n",
              " 'banned',\n",
              " 'breaking',\n",
              " 'rules',\n",
              " 'dont',\n",
              " 'like',\n",
              " 'get',\n",
              " 'banned',\n",
              " 'stranger',\n",
              " 'chat',\n",
              " 'room',\n",
              " 'warning',\n",
              " 'required',\n",
              " 'talk',\n",
              " 'strangers',\n",
              " 'agree',\n",
              " 'least',\n",
              " '18',\n",
              " 'years',\n",
              " 'old',\n",
              " 'nudity',\n",
              " 'pictures',\n",
              " 'allowed',\n",
              " 'banned',\n",
              " 'dont',\n",
              " 'share',\n",
              " 'phone',\n",
              " 'numbers',\n",
              " 'email',\n",
              " 'address',\n",
              " 'social',\n",
              " 'media',\n",
              " 'id',\n",
              " 'websites',\n",
              " 'links',\n",
              " 'cam',\n",
              " 'requests',\n",
              " 'may',\n",
              " 'get',\n",
              " 'muted',\n",
              " 'banned',\n",
              " 'dont',\n",
              " 'share',\n",
              " 'personal',\n",
              " 'information',\n",
              " 'anyone',\n",
              " 'elses',\n",
              " 'spamming',\n",
              " 'flooding',\n",
              " 'chatroom',\n",
              " 'disrupting',\n",
              " 'users',\n",
              " 'way',\n",
              " 'banned',\n",
              " 'dont',\n",
              " 'allow',\n",
              " 'vpn',\n",
              " 'proxy',\n",
              " 'connections',\n",
              " 'group',\n",
              " 'chat',\n",
              " 'video',\n",
              " 'chat',\n",
              " 'privacy',\n",
              " 'policy',\n",
              " 'contact',\n",
              " 'us',\n",
              " 'copyright',\n",
              " '2020',\n",
              " 'muchfriendscom',\n",
              " 'rights',\n",
              " 'reserved']"
            ]
          },
          "metadata": {},
          "execution_count": 142
        }
      ]
    },
    {
      "cell_type": "code",
      "source": [
        "len(text)"
      ],
      "metadata": {
        "colab": {
          "base_uri": "https://localhost:8080/"
        },
        "id": "uHn-iIxwzMHe",
        "outputId": "44236aef-604f-4fce-d533-8288276ddefe"
      },
      "execution_count": null,
      "outputs": [
        {
          "output_type": "execute_result",
          "data": {
            "text/plain": [
              "270"
            ]
          },
          "metadata": {},
          "execution_count": 35
        }
      ]
    },
    {
      "cell_type": "code",
      "source": [
        "text"
      ],
      "metadata": {
        "colab": {
          "base_uri": "https://localhost:8080/"
        },
        "id": "H6Z0h0bE7Pl5",
        "outputId": "4ba081a2-e50c-41db-f7e2-7516d480cc95"
      },
      "execution_count": null,
      "outputs": [
        {
          "output_type": "execute_result",
          "data": {
            "text/plain": [
              "['toggle',\n",
              " 'navigation',\n",
              " 'home',\n",
              " 'games',\n",
              " 'rules',\n",
              " 'blog',\n",
              " 'faq',\n",
              " 'stranger',\n",
              " 'text',\n",
              " 'chat',\n",
              " 'join',\n",
              " 'online',\n",
              " 'stranger',\n",
              " 'text',\n",
              " 'chat',\n",
              " 'rooms',\n",
              " 'free',\n",
              " 'without',\n",
              " 'registration',\n",
              " 'talk',\n",
              " 'new',\n",
              " 'friends',\n",
              " 'world',\n",
              " 'sharing',\n",
              " 'interests',\n",
              " 'start',\n",
              " 'chat',\n",
              " 'one',\n",
              " 'best',\n",
              " 'free',\n",
              " 'chat',\n",
              " 'rooms',\n",
              " 'chatting',\n",
              " 'site',\n",
              " 'chat',\n",
              " 'stranger',\n",
              " 'free',\n",
              " 'safe',\n",
              " 'online',\n",
              " 'online',\n",
              " 'stranger',\n",
              " 'chat',\n",
              " 'room',\n",
              " 'muchfriendscom',\n",
              " 'gives',\n",
              " 'chance',\n",
              " 'text',\n",
              " 'strangers',\n",
              " 'make',\n",
              " 'new',\n",
              " 'friends',\n",
              " 'free',\n",
              " 'online',\n",
              " 'random',\n",
              " 'chat',\n",
              " 'strangers',\n",
              " 'offer',\n",
              " 'possibility',\n",
              " 'text',\n",
              " 'chat',\n",
              " 'strangers',\n",
              " 'anywhere',\n",
              " 'world',\n",
              " 'using',\n",
              " 'free',\n",
              " 'international',\n",
              " 'chatroom',\n",
              " 'learn',\n",
              " 'use',\n",
              " 'meet',\n",
              " 'friends',\n",
              " 'online',\n",
              " 'anytime',\n",
              " 'want',\n",
              " 'free',\n",
              " 'text',\n",
              " 'chat',\n",
              " 'it’s',\n",
              " 'simple',\n",
              " 'easy',\n",
              " 'talk',\n",
              " 'strangers',\n",
              " 'safe',\n",
              " 'place',\n",
              " 'chatting',\n",
              " 'strangers',\n",
              " 'anonymously',\n",
              " 'without',\n",
              " 'registration',\n",
              " 'chat',\n",
              " 'strangers',\n",
              " 'may',\n",
              " 'help',\n",
              " 'overcome',\n",
              " 'loneliness',\n",
              " 'stress',\n",
              " 'aware',\n",
              " 'way',\n",
              " 'protect',\n",
              " 'online',\n",
              " 'scams',\n",
              " 'random',\n",
              " 'chat',\n",
              " 'offers',\n",
              " 'great',\n",
              " 'opportunity',\n",
              " 'get',\n",
              " 'friends',\n",
              " 'onlineknow',\n",
              " 'cool',\n",
              " 'strangers',\n",
              " 'interesting',\n",
              " 'conversations',\n",
              " 'fun',\n",
              " 'meet',\n",
              " 'new',\n",
              " 'friends',\n",
              " 'countries',\n",
              " 'usa',\n",
              " 'canada',\n",
              " 'united',\n",
              " 'kingdom',\n",
              " 'australiaetc',\n",
              " 'also',\n",
              " 'share',\n",
              " 'anything',\n",
              " 'want',\n",
              " 'muchfriendscom',\n",
              " 'introduces',\n",
              " 'best',\n",
              " 'stranger',\n",
              " 'chat',\n",
              " 'free',\n",
              " 'sure',\n",
              " 'trying',\n",
              " 'platform',\n",
              " 'many',\n",
              " 'reasons',\n",
              " 'first',\n",
              " 'chat',\n",
              " 'strangers',\n",
              " 'topic',\n",
              " 'like',\n",
              " 'free',\n",
              " 'without',\n",
              " 'restriction',\n",
              " 'secondour',\n",
              " 'chat',\n",
              " 'random',\n",
              " 'strangers',\n",
              " 'using',\n",
              " 'nickname',\n",
              " 'dont',\n",
              " 'need',\n",
              " 'register',\n",
              " 'third',\n",
              " 'site',\n",
              " 'global',\n",
              " 'connect',\n",
              " 'many',\n",
              " 'people',\n",
              " 'countries',\n",
              " 'men',\n",
              " 'women',\n",
              " 'optimized',\n",
              " 'chat',\n",
              " 'page',\n",
              " 'compatible',\n",
              " 'type',\n",
              " 'device',\n",
              " 'use',\n",
              " 'finally',\n",
              " 'freely',\n",
              " 'share',\n",
              " 'photos',\n",
              " 'videos',\n",
              " 'doubt',\n",
              " 'interesting',\n",
              " 'experience',\n",
              " 'share',\n",
              " 'online',\n",
              " 'others',\n",
              " 'good',\n",
              " 'moments',\n",
              " 'hurried',\n",
              " 'use',\n",
              " 'text',\n",
              " 'chat',\n",
              " 'stranger',\n",
              " 'totally',\n",
              " 'free',\n",
              " 'mobiles',\n",
              " 'desktops',\n",
              " 'please',\n",
              " 'read',\n",
              " 'rules',\n",
              " 'joining',\n",
              " 'avoid',\n",
              " 'getting',\n",
              " 'banned',\n",
              " 'breaking',\n",
              " 'rules',\n",
              " 'dont',\n",
              " 'like',\n",
              " 'get',\n",
              " 'banned',\n",
              " 'stranger',\n",
              " 'chat',\n",
              " 'room',\n",
              " 'warning',\n",
              " 'required',\n",
              " 'talk',\n",
              " 'strangers',\n",
              " 'agree',\n",
              " 'least',\n",
              " '18',\n",
              " 'years',\n",
              " 'old',\n",
              " 'nudity',\n",
              " 'pictures',\n",
              " 'allowed',\n",
              " 'banned',\n",
              " 'dont',\n",
              " 'share',\n",
              " 'phone',\n",
              " 'numbers',\n",
              " 'email',\n",
              " 'address',\n",
              " 'social',\n",
              " 'media',\n",
              " 'id',\n",
              " 'websites',\n",
              " 'links',\n",
              " 'cam',\n",
              " 'requests',\n",
              " 'may',\n",
              " 'get',\n",
              " 'muted',\n",
              " 'banned',\n",
              " 'dont',\n",
              " 'share',\n",
              " 'personal',\n",
              " 'information',\n",
              " 'anyone',\n",
              " 'elses',\n",
              " 'spamming',\n",
              " 'flooding',\n",
              " 'chatroom',\n",
              " 'disrupting',\n",
              " 'users',\n",
              " 'way',\n",
              " 'banned',\n",
              " 'dont',\n",
              " 'allow',\n",
              " 'vpn',\n",
              " 'proxy',\n",
              " 'connections',\n",
              " 'group',\n",
              " 'chat',\n",
              " 'video',\n",
              " 'chat',\n",
              " 'privacy',\n",
              " 'policy',\n",
              " 'contact',\n",
              " 'us',\n",
              " 'copyright',\n",
              " '2020',\n",
              " 'muchfriendscom',\n",
              " 'rights',\n",
              " 'reserved']"
            ]
          },
          "metadata": {},
          "execution_count": 36
        }
      ]
    },
    {
      "cell_type": "code",
      "source": [
        "len(text)"
      ],
      "metadata": {
        "colab": {
          "base_uri": "https://localhost:8080/"
        },
        "id": "vTP8zp2-62WD",
        "outputId": "63ab4dbd-2076-4502-b798-3ef951e7195f"
      },
      "execution_count": null,
      "outputs": [
        {
          "output_type": "execute_result",
          "data": {
            "text/plain": [
              "270"
            ]
          },
          "metadata": {},
          "execution_count": 145
        }
      ]
    },
    {
      "cell_type": "markdown",
      "source": [
        "## Cleaning"
      ],
      "metadata": {
        "id": "7EFTmU2Cb3C5"
      }
    },
    {
      "cell_type": "code",
      "source": [
        "text = set(text)"
      ],
      "metadata": {
        "id": "eNOcmgJ-muQY"
      },
      "execution_count": null,
      "outputs": []
    },
    {
      "cell_type": "code",
      "source": [
        "text_filtered = [re.sub(r'\\w*\\d\\w*', '', w) for w in text]"
      ],
      "metadata": {
        "id": "liV1c9xW7Yp6"
      },
      "execution_count": null,
      "outputs": []
    },
    {
      "cell_type": "code",
      "source": [
        "text_filtered = [x for x in text_filtered if x != '']"
      ],
      "metadata": {
        "id": "MXB2yHOMk4Uo"
      },
      "execution_count": null,
      "outputs": []
    },
    {
      "cell_type": "code",
      "source": [
        "text_filtered"
      ],
      "metadata": {
        "colab": {
          "base_uri": "https://localhost:8080/"
        },
        "id": "c3WZaQ_57etS",
        "outputId": "8546236b-9e59-405a-ea24-6c236d3cf99f"
      },
      "execution_count": null,
      "outputs": [
        {
          "output_type": "execute_result",
          "data": {
            "text/plain": [
              "['numbers',\n",
              " 'countries',\n",
              " 'experience',\n",
              " 'type',\n",
              " 'copyright',\n",
              " 'required',\n",
              " 'offer',\n",
              " 'place',\n",
              " 'international',\n",
              " 'requests',\n",
              " 'home',\n",
              " 'easy',\n",
              " 'scams',\n",
              " 'desktops',\n",
              " 'restriction',\n",
              " 'elses',\n",
              " 'connections',\n",
              " 'getting',\n",
              " 'personal',\n",
              " 'stranger',\n",
              " 'text',\n",
              " 'old',\n",
              " 'chance',\n",
              " 'conversations',\n",
              " 'anonymously',\n",
              " 'rules',\n",
              " 'anywhere',\n",
              " 'united',\n",
              " 'simple',\n",
              " 'room',\n",
              " 'overcome',\n",
              " 'good',\n",
              " 'privacy',\n",
              " 'random',\n",
              " 'registration',\n",
              " 'anytime',\n",
              " 'nudity',\n",
              " 'videos',\n",
              " 'make',\n",
              " 'it’s',\n",
              " 'usa',\n",
              " 'email',\n",
              " 'canada',\n",
              " 'way',\n",
              " 'us',\n",
              " 'muchfriendscom',\n",
              " 'world',\n",
              " 'possibility',\n",
              " 'topic',\n",
              " 'compatible',\n",
              " 'optimized',\n",
              " 'best',\n",
              " 'register',\n",
              " 'interests',\n",
              " 'many',\n",
              " 'connect',\n",
              " 'others',\n",
              " 'banned',\n",
              " 'nickname',\n",
              " 'id',\n",
              " 'stress',\n",
              " 'women',\n",
              " 'meet',\n",
              " 'read',\n",
              " 'totally',\n",
              " 'doubt',\n",
              " 'rights',\n",
              " 'disrupting',\n",
              " 'reserved',\n",
              " 'group',\n",
              " 'get',\n",
              " 'fun',\n",
              " 'people',\n",
              " 'rooms',\n",
              " 'kingdom',\n",
              " 'reasons',\n",
              " 'media',\n",
              " 'phone',\n",
              " 'platform',\n",
              " 'third',\n",
              " 'please',\n",
              " 'one',\n",
              " 'cool',\n",
              " 'loneliness',\n",
              " 'dont',\n",
              " 'agree',\n",
              " 'gives',\n",
              " 'websites',\n",
              " 'blog',\n",
              " 'aware',\n",
              " 'friends',\n",
              " 'strangers',\n",
              " 'information',\n",
              " 'allow',\n",
              " 'talk',\n",
              " 'trying',\n",
              " 'opportunity',\n",
              " 'address',\n",
              " 'mobiles',\n",
              " 'least',\n",
              " 'vpn',\n",
              " 'use',\n",
              " 'chat',\n",
              " 'secondour',\n",
              " 'flooding',\n",
              " 'games',\n",
              " 'also',\n",
              " 'proxy',\n",
              " 'warning',\n",
              " 'cam',\n",
              " 'start',\n",
              " 'onlineknow',\n",
              " 'freely',\n",
              " 'first',\n",
              " 'share',\n",
              " 'free',\n",
              " 'want',\n",
              " 'men',\n",
              " 'offers',\n",
              " 'page',\n",
              " 'video',\n",
              " 'global',\n",
              " 'pictures',\n",
              " 'muted',\n",
              " 'great',\n",
              " 'without',\n",
              " 'join',\n",
              " 'learn',\n",
              " 'sharing',\n",
              " 'anything',\n",
              " 'like',\n",
              " 'faq',\n",
              " 'introduces',\n",
              " 'policy',\n",
              " 'new',\n",
              " 'joining',\n",
              " 'sure',\n",
              " 'safe',\n",
              " 'contact',\n",
              " 'moments',\n",
              " 'protect',\n",
              " 'may',\n",
              " 'chatting',\n",
              " 'avoid',\n",
              " 'chatroom',\n",
              " 'interesting',\n",
              " 'device',\n",
              " 'years',\n",
              " 'site',\n",
              " 'links',\n",
              " 'social',\n",
              " 'photos',\n",
              " 'anyone',\n",
              " 'toggle',\n",
              " 'spamming',\n",
              " 'allowed',\n",
              " 'using',\n",
              " 'online',\n",
              " 'navigation',\n",
              " 'need',\n",
              " 'australiaetc',\n",
              " 'hurried',\n",
              " 'finally',\n",
              " 'breaking',\n",
              " 'users',\n",
              " 'help']"
            ]
          },
          "metadata": {},
          "execution_count": 40
        }
      ]
    },
    {
      "cell_type": "markdown",
      "source": [
        "## Stemming"
      ],
      "metadata": {
        "id": "15oMbSIucC6Y"
      }
    },
    {
      "cell_type": "code",
      "source": [
        "nltk.download('wordnet')"
      ],
      "metadata": {
        "colab": {
          "base_uri": "https://localhost:8080/"
        },
        "id": "mGhk33G973TY",
        "outputId": "31950773-c8ac-4aca-94fc-e30cf3e150d9"
      },
      "execution_count": null,
      "outputs": [
        {
          "output_type": "stream",
          "name": "stderr",
          "text": [
            "[nltk_data] Downloading package wordnet to /root/nltk_data...\n",
            "[nltk_data]   Package wordnet is already up-to-date!\n"
          ]
        },
        {
          "output_type": "execute_result",
          "data": {
            "text/plain": [
              "True"
            ]
          },
          "metadata": {},
          "execution_count": 41
        }
      ]
    },
    {
      "cell_type": "code",
      "source": [
        "stemmer = PorterStemmer()\n",
        "text_stemmed = [stemmer.stem(y) for y in text_filtered]"
      ],
      "metadata": {
        "id": "UkHwFIJY8N6M"
      },
      "execution_count": null,
      "outputs": []
    },
    {
      "cell_type": "code",
      "source": [
        "text_stemmed"
      ],
      "metadata": {
        "colab": {
          "base_uri": "https://localhost:8080/"
        },
        "id": "PD6dtx7f76ST",
        "outputId": "cb065860-1efe-4a89-fbb5-3d8747fc0308"
      },
      "execution_count": null,
      "outputs": [
        {
          "output_type": "execute_result",
          "data": {
            "text/plain": [
              "['number',\n",
              " 'countri',\n",
              " 'experi',\n",
              " 'type',\n",
              " 'copyright',\n",
              " 'requir',\n",
              " 'offer',\n",
              " 'place',\n",
              " 'intern',\n",
              " 'request',\n",
              " 'home',\n",
              " 'easi',\n",
              " 'scam',\n",
              " 'desktop',\n",
              " 'restrict',\n",
              " 'els',\n",
              " 'connect',\n",
              " 'get',\n",
              " 'person',\n",
              " 'stranger',\n",
              " 'text',\n",
              " 'old',\n",
              " 'chanc',\n",
              " 'convers',\n",
              " 'anonym',\n",
              " 'rule',\n",
              " 'anywher',\n",
              " 'unit',\n",
              " 'simpl',\n",
              " 'room',\n",
              " 'overcom',\n",
              " 'good',\n",
              " 'privaci',\n",
              " 'random',\n",
              " 'registr',\n",
              " 'anytim',\n",
              " 'nuditi',\n",
              " 'video',\n",
              " 'make',\n",
              " 'it’',\n",
              " 'usa',\n",
              " 'email',\n",
              " 'canada',\n",
              " 'way',\n",
              " 'us',\n",
              " 'muchfriendscom',\n",
              " 'world',\n",
              " 'possibl',\n",
              " 'topic',\n",
              " 'compat',\n",
              " 'optim',\n",
              " 'best',\n",
              " 'regist',\n",
              " 'interest',\n",
              " 'mani',\n",
              " 'connect',\n",
              " 'other',\n",
              " 'ban',\n",
              " 'nicknam',\n",
              " 'id',\n",
              " 'stress',\n",
              " 'women',\n",
              " 'meet',\n",
              " 'read',\n",
              " 'total',\n",
              " 'doubt',\n",
              " 'right',\n",
              " 'disrupt',\n",
              " 'reserv',\n",
              " 'group',\n",
              " 'get',\n",
              " 'fun',\n",
              " 'peopl',\n",
              " 'room',\n",
              " 'kingdom',\n",
              " 'reason',\n",
              " 'media',\n",
              " 'phone',\n",
              " 'platform',\n",
              " 'third',\n",
              " 'pleas',\n",
              " 'one',\n",
              " 'cool',\n",
              " 'loneli',\n",
              " 'dont',\n",
              " 'agre',\n",
              " 'give',\n",
              " 'websit',\n",
              " 'blog',\n",
              " 'awar',\n",
              " 'friend',\n",
              " 'stranger',\n",
              " 'inform',\n",
              " 'allow',\n",
              " 'talk',\n",
              " 'tri',\n",
              " 'opportun',\n",
              " 'address',\n",
              " 'mobil',\n",
              " 'least',\n",
              " 'vpn',\n",
              " 'use',\n",
              " 'chat',\n",
              " 'secondour',\n",
              " 'flood',\n",
              " 'game',\n",
              " 'also',\n",
              " 'proxi',\n",
              " 'warn',\n",
              " 'cam',\n",
              " 'start',\n",
              " 'onlineknow',\n",
              " 'freeli',\n",
              " 'first',\n",
              " 'share',\n",
              " 'free',\n",
              " 'want',\n",
              " 'men',\n",
              " 'offer',\n",
              " 'page',\n",
              " 'video',\n",
              " 'global',\n",
              " 'pictur',\n",
              " 'mute',\n",
              " 'great',\n",
              " 'without',\n",
              " 'join',\n",
              " 'learn',\n",
              " 'share',\n",
              " 'anyth',\n",
              " 'like',\n",
              " 'faq',\n",
              " 'introduc',\n",
              " 'polici',\n",
              " 'new',\n",
              " 'join',\n",
              " 'sure',\n",
              " 'safe',\n",
              " 'contact',\n",
              " 'moment',\n",
              " 'protect',\n",
              " 'may',\n",
              " 'chat',\n",
              " 'avoid',\n",
              " 'chatroom',\n",
              " 'interest',\n",
              " 'devic',\n",
              " 'year',\n",
              " 'site',\n",
              " 'link',\n",
              " 'social',\n",
              " 'photo',\n",
              " 'anyon',\n",
              " 'toggl',\n",
              " 'spam',\n",
              " 'allow',\n",
              " 'use',\n",
              " 'onlin',\n",
              " 'navig',\n",
              " 'need',\n",
              " 'australiaetc',\n",
              " 'hurri',\n",
              " 'final',\n",
              " 'break',\n",
              " 'user',\n",
              " 'help']"
            ]
          },
          "metadata": {},
          "execution_count": 43
        }
      ]
    },
    {
      "cell_type": "markdown",
      "source": [
        "## Lemmatization"
      ],
      "metadata": {
        "id": "mJY9qTS4cL95"
      }
    },
    {
      "cell_type": "code",
      "source": [
        "# lem = WordNetLemmatizer()\n",
        "# text_lem = [lem.lemmatize(y) for y in text_filtered]"
      ],
      "metadata": {
        "id": "BUaP0GIX7oBB"
      },
      "execution_count": null,
      "outputs": []
    },
    {
      "cell_type": "code",
      "source": [
        "import spacy\n",
        "nlp = spacy.load(\"en_core_web_sm\")\n",
        "\n",
        "\n",
        "# from nltk.stem import WordNetLemmatizer\n",
        "from textblob import Word\n",
        "\n",
        "text_lem=[]\n",
        "\n",
        "for wordq in text_filtered:\n",
        "    s=nlp(wordq)\n",
        "    se = [token.lemma_ for token in s][0]\n",
        "    word = Word(se)\n",
        "    ss=word.lemmatize(\"v\")\n",
        "    print(f\"{wordq} ---> {word} ------> \",ss )\n",
        "    text_lem.append(word.lemmatize(\"v\"))\n",
        "\n",
        "    # print(word.lemmatize(\"v\"))"
      ],
      "metadata": {
        "colab": {
          "base_uri": "https://localhost:8080/"
        },
        "id": "RhdKO6cHinjE",
        "outputId": "fffcb6a3-5141-420e-8092-5cf53427f446"
      },
      "execution_count": null,
      "outputs": [
        {
          "output_type": "stream",
          "name": "stdout",
          "text": [
            "numbers ---> number ------>  number\n",
            "countries ---> country ------>  country\n",
            "experience ---> experience ------>  experience\n",
            "type ---> type ------>  type\n",
            "copyright ---> copyright ------>  copyright\n",
            "required ---> require ------>  require\n",
            "offer ---> offer ------>  offer\n",
            "place ---> place ------>  place\n",
            "international ---> international ------>  international\n",
            "requests ---> request ------>  request\n",
            "home ---> home ------>  home\n",
            "easy ---> easy ------>  easy\n",
            "scams ---> scam ------>  scam\n",
            "desktops ---> desktop ------>  desktop\n",
            "restriction ---> restriction ------>  restriction\n",
            "elses ---> else ------>  else\n",
            "connections ---> connection ------>  connection\n",
            "getting ---> get ------>  get\n",
            "personal ---> personal ------>  personal\n",
            "stranger ---> stranger ------>  stranger\n",
            "text ---> text ------>  text\n",
            "old ---> old ------>  old\n",
            "chance ---> chance ------>  chance\n",
            "conversations ---> conversation ------>  conversation\n",
            "anonymously ---> anonymously ------>  anonymously\n",
            "rules ---> rule ------>  rule\n",
            "anywhere ---> anywhere ------>  anywhere\n",
            "united ---> united ------>  unite\n",
            "simple ---> simple ------>  simple\n",
            "room ---> room ------>  room\n",
            "overcome ---> overcome ------>  overcome\n",
            "good ---> good ------>  good\n",
            "privacy ---> privacy ------>  privacy\n",
            "random ---> random ------>  random\n",
            "registration ---> registration ------>  registration\n",
            "anytime ---> anytime ------>  anytime\n",
            "nudity ---> nudity ------>  nudity\n",
            "videos ---> video ------>  video\n",
            "make ---> make ------>  make\n",
            "it’s ---> it ------>  it\n",
            "usa ---> usa ------>  usa\n",
            "email ---> email ------>  email\n",
            "canada ---> canada ------>  canada\n",
            "way ---> way ------>  way\n",
            "us ---> we ------>  we\n",
            "muchfriendscom ---> muchfriendscom ------>  muchfriendscom\n",
            "world ---> world ------>  world\n",
            "possibility ---> possibility ------>  possibility\n",
            "topic ---> topic ------>  topic\n",
            "compatible ---> compatible ------>  compatible\n",
            "optimized ---> optimize ------>  optimize\n",
            "best ---> good ------>  good\n",
            "register ---> register ------>  register\n",
            "interests ---> interest ------>  interest\n",
            "many ---> many ------>  many\n",
            "connect ---> connect ------>  connect\n",
            "others ---> other ------>  other\n",
            "banned ---> ban ------>  ban\n",
            "nickname ---> nickname ------>  nickname\n",
            "id ---> i ------>  i\n",
            "stress ---> stress ------>  stress\n",
            "women ---> woman ------>  woman\n",
            "meet ---> meet ------>  meet\n",
            "read ---> read ------>  read\n",
            "totally ---> totally ------>  totally\n",
            "doubt ---> doubt ------>  doubt\n",
            "rights ---> right ------>  right\n",
            "disrupting ---> disrupt ------>  disrupt\n",
            "reserved ---> reserve ------>  reserve\n",
            "group ---> group ------>  group\n",
            "get ---> get ------>  get\n",
            "fun ---> fun ------>  fun\n",
            "people ---> people ------>  people\n",
            "rooms ---> room ------>  room\n",
            "kingdom ---> kingdom ------>  kingdom\n",
            "reasons ---> reason ------>  reason\n",
            "media ---> medium ------>  medium\n",
            "phone ---> phone ------>  phone\n",
            "platform ---> platform ------>  platform\n",
            "third ---> third ------>  third\n",
            "please ---> please ------>  please\n",
            "one ---> one ------>  one\n",
            "cool ---> cool ------>  cool\n",
            "loneliness ---> loneliness ------>  loneliness\n",
            "dont ---> do ------>  do\n",
            "agree ---> agree ------>  agree\n",
            "gives ---> give ------>  give\n",
            "websites ---> website ------>  website\n",
            "blog ---> blog ------>  blog\n",
            "aware ---> aware ------>  aware\n",
            "friends ---> friend ------>  friend\n",
            "strangers ---> stranger ------>  stranger\n",
            "information ---> information ------>  information\n",
            "allow ---> allow ------>  allow\n",
            "talk ---> talk ------>  talk\n",
            "trying ---> try ------>  try\n",
            "opportunity ---> opportunity ------>  opportunity\n",
            "address ---> address ------>  address\n",
            "mobiles ---> mobile ------>  mobile\n",
            "least ---> least ------>  least\n",
            "vpn ---> vpn ------>  vpn\n",
            "use ---> use ------>  use\n",
            "chat ---> chat ------>  chat\n",
            "secondour ---> secondour ------>  secondour\n",
            "flooding ---> flood ------>  flood\n",
            "games ---> game ------>  game\n",
            "also ---> also ------>  also\n",
            "proxy ---> proxy ------>  proxy\n",
            "warning ---> warn ------>  warn\n",
            "cam ---> cam ------>  cam\n",
            "start ---> start ------>  start\n",
            "onlineknow ---> onlineknow ------>  onlineknow\n",
            "freely ---> freely ------>  freely\n",
            "first ---> first ------>  first\n",
            "share ---> share ------>  share\n",
            "free ---> free ------>  free\n",
            "want ---> want ------>  want\n",
            "men ---> man ------>  man\n",
            "offers ---> offer ------>  offer\n",
            "page ---> page ------>  page\n",
            "video ---> video ------>  video\n",
            "global ---> global ------>  global\n",
            "pictures ---> picture ------>  picture\n",
            "muted ---> mute ------>  mute\n",
            "great ---> great ------>  great\n",
            "without ---> without ------>  without\n",
            "join ---> join ------>  join\n",
            "learn ---> learn ------>  learn\n",
            "sharing ---> share ------>  share\n",
            "anything ---> anything ------>  anything\n",
            "like ---> like ------>  like\n",
            "faq ---> faq ------>  faq\n",
            "introduces ---> introduce ------>  introduce\n",
            "policy ---> policy ------>  policy\n",
            "new ---> new ------>  new\n",
            "joining ---> join ------>  join\n",
            "sure ---> sure ------>  sure\n",
            "safe ---> safe ------>  safe\n",
            "contact ---> contact ------>  contact\n",
            "moments ---> moment ------>  moment\n",
            "protect ---> protect ------>  protect\n",
            "may ---> may ------>  may\n",
            "chatting ---> chat ------>  chat\n",
            "avoid ---> avoid ------>  avoid\n",
            "chatroom ---> chatroom ------>  chatroom\n",
            "interesting ---> interesting ------>  interest\n",
            "device ---> device ------>  device\n",
            "years ---> year ------>  year\n",
            "site ---> site ------>  site\n",
            "links ---> link ------>  link\n",
            "social ---> social ------>  social\n",
            "photos ---> photo ------>  photo\n",
            "anyone ---> anyone ------>  anyone\n",
            "toggle ---> toggle ------>  toggle\n",
            "spamming ---> spamme ------>  spamme\n",
            "allowed ---> allow ------>  allow\n",
            "using ---> use ------>  use\n",
            "online ---> online ------>  online\n",
            "navigation ---> navigation ------>  navigation\n",
            "need ---> need ------>  need\n",
            "australiaetc ---> australiaetc ------>  australiaetc\n",
            "hurried ---> hurry ------>  hurry\n",
            "finally ---> finally ------>  finally\n",
            "breaking ---> break ------>  break\n",
            "users ---> user ------>  user\n",
            "help ---> help ------>  help\n"
          ]
        }
      ]
    },
    {
      "cell_type": "markdown",
      "source": [
        "## Get Unique Words"
      ],
      "metadata": {
        "id": "KIo60ZCYnBkj"
      }
    },
    {
      "cell_type": "code",
      "source": [
        "text_lem = set(text_lem)"
      ],
      "metadata": {
        "id": "D1_-tX3k6xNe"
      },
      "execution_count": null,
      "outputs": []
    },
    {
      "cell_type": "code",
      "source": [
        "text_lem"
      ],
      "metadata": {
        "colab": {
          "base_uri": "https://localhost:8080/"
        },
        "id": "US1RfH7g9Q-V",
        "outputId": "af550327-76fc-400d-828e-fd12b226b30a"
      },
      "execution_count": null,
      "outputs": [
        {
          "output_type": "execute_result",
          "data": {
            "text/plain": [
              "{'address',\n",
              " 'agree',\n",
              " 'allow',\n",
              " 'also',\n",
              " 'anonymously',\n",
              " 'anyone',\n",
              " 'anything',\n",
              " 'anytime',\n",
              " 'anywhere',\n",
              " 'australiaetc',\n",
              " 'avoid',\n",
              " 'aware',\n",
              " 'ban',\n",
              " 'best',\n",
              " 'blog',\n",
              " 'break',\n",
              " 'cam',\n",
              " 'canada',\n",
              " 'chance',\n",
              " 'chat',\n",
              " 'chatroom',\n",
              " 'compatible',\n",
              " 'connect',\n",
              " 'connection',\n",
              " 'contact',\n",
              " 'conversation',\n",
              " 'cool',\n",
              " 'copyright',\n",
              " 'country',\n",
              " 'desktop',\n",
              " 'device',\n",
              " 'disrupt',\n",
              " 'dont',\n",
              " 'doubt',\n",
              " 'easy',\n",
              " 'el',\n",
              " 'email',\n",
              " 'experience',\n",
              " 'faq',\n",
              " 'finally',\n",
              " 'first',\n",
              " 'flood',\n",
              " 'free',\n",
              " 'freely',\n",
              " 'friend',\n",
              " 'fun',\n",
              " 'game',\n",
              " 'get',\n",
              " 'give',\n",
              " 'global',\n",
              " 'good',\n",
              " 'great',\n",
              " 'group',\n",
              " 'help',\n",
              " 'home',\n",
              " 'hurry',\n",
              " 'id',\n",
              " 'information',\n",
              " 'interest',\n",
              " 'international',\n",
              " 'introduce',\n",
              " 'it’s',\n",
              " 'join',\n",
              " 'kingdom',\n",
              " 'learn',\n",
              " 'least',\n",
              " 'like',\n",
              " 'link',\n",
              " 'loneliness',\n",
              " 'make',\n",
              " 'many',\n",
              " 'may',\n",
              " 'medium',\n",
              " 'meet',\n",
              " 'men',\n",
              " 'mobile',\n",
              " 'moment',\n",
              " 'muchfriendscom',\n",
              " 'mute',\n",
              " 'navigation',\n",
              " 'need',\n",
              " 'new',\n",
              " 'nickname',\n",
              " 'nudity',\n",
              " 'number',\n",
              " 'offer',\n",
              " 'old',\n",
              " 'one',\n",
              " 'online',\n",
              " 'onlineknow',\n",
              " 'opportunity',\n",
              " 'optimize',\n",
              " 'others',\n",
              " 'overcome',\n",
              " 'page',\n",
              " 'people',\n",
              " 'personal',\n",
              " 'phone',\n",
              " 'photo',\n",
              " 'picture',\n",
              " 'place',\n",
              " 'platform',\n",
              " 'please',\n",
              " 'policy',\n",
              " 'possibility',\n",
              " 'privacy',\n",
              " 'protect',\n",
              " 'proxy',\n",
              " 'random',\n",
              " 'read',\n",
              " 'reason',\n",
              " 'register',\n",
              " 'registration',\n",
              " 'request',\n",
              " 'require',\n",
              " 'reserve',\n",
              " 'restriction',\n",
              " 'right',\n",
              " 'room',\n",
              " 'rule',\n",
              " 'safe',\n",
              " 'scam',\n",
              " 'secondour',\n",
              " 'share',\n",
              " 'simple',\n",
              " 'site',\n",
              " 'social',\n",
              " 'spamming',\n",
              " 'start',\n",
              " 'stranger',\n",
              " 'stress',\n",
              " 'sure',\n",
              " 'talk',\n",
              " 'text',\n",
              " 'third',\n",
              " 'toggle',\n",
              " 'topic',\n",
              " 'totally',\n",
              " 'try',\n",
              " 'type',\n",
              " 'u',\n",
              " 'unite',\n",
              " 'usa',\n",
              " 'use',\n",
              " 'user',\n",
              " 'video',\n",
              " 'vpn',\n",
              " 'want',\n",
              " 'warn',\n",
              " 'way',\n",
              " 'website',\n",
              " 'without',\n",
              " 'woman',\n",
              " 'world',\n",
              " 'year'}"
            ]
          },
          "metadata": {},
          "execution_count": 156
        }
      ]
    }
  ]
}